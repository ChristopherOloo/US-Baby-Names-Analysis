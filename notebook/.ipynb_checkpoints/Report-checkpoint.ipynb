{
 "cells": [
  {
   "cell_type": "markdown",
   "metadata": {},
   "source": [
    "# US Baby Names Data Analysis Project\n",
    "This is a data analysis project that analyses the baby names of children born as from 1880-2018 in US according to baby names datasets provided by US Social Security.\n"
   ]
  },
  {
   "cell_type": "markdown",
   "metadata": {},
   "source": [
    "## Why do a Baby Names analysis project?\n",
    "### a. To the parent(s) plus.\n",
    "Humans have always been primarily known by their names. Among the family mambers, friends, schools, work places and religious gatherings; names play a vital role in our identity. There are those who are generally fullfiled, satisfied and happy with their names; on the other hand too, there are those who feel ashamed or may secretely want to hide or be called a particular name(s) given by his/her parents. There are also relgious belief or even physchological ones that names given to babies at birth may one way or the other shape their lives based on character, achievements among others. **There are also names which usually become too common among a particular age group or even in a generation. There are those who prefer unique names rather than common names. Knowing the popularity of a name to name a baby at birth or over the previous decade may be of hepl to avoid such common names.** Because of these among others, it's importants for parents or to be fully knowlegeable of names, the wide range of choice and be able to choose only those they are happy and responsible about and believe that their son(s) or daughter(s) will be happy and proud of when called in their lifetimes. The project also aim at helping parents to concentrate on the particular names or issues of names they may be interested about and eliminate confusion that might be encountered because of vast names available.\n",
    "\n",
    "### b. To the business data driven applications like recommendation engines in an e-commerce site among others.\n",
    "In many eco-commerce sites, customers usually sign up using First Name, Last Name and Email address. Baby Names analytics to know the possible religion or origin or a name can in some aspect perhaps help in creation of a recommendation engine to reccomend other religous or native products even without history. **To research about this.**"
   ]
  },
  {
   "cell_type": "markdown",
   "metadata": {},
   "source": [
    "## Assumptions made when doing the project.\n",
    "1. The records are the first names named children born in US as from 1880 - 2018; meaning each name can be given to multiple children but each child posses only one single.\n",
    "2. "
   ]
  },
  {
   "cell_type": "markdown",
   "metadata": {},
   "source": [
    "## 1. Research Goals.\n",
    "The goals that this project attempts to research about and provide information and deep insights are as follows.\n",
    "1. The total births from 1880 - 2018 and the trends in births yearly and based on sex.\n",
    "2. The total no. of names used for children either nunisexually or bisexually; the total births given those names and their frequency yearly as from 1880-2018.\n",
    "3. The most and least popular names bisexually and unisexually; the most and least frequent names yearly.\n",
    "4. The ranking of the names either yearly, decadely, after every 25 years, jubileely or centuarily.\n",
    "5. Names with similar subsets from the beggining of the name strings; and those with similar pronunciations and different spellings as a result of removal or change of single or few characters.\n",
    "6. Ranking of each yearly and based on sex and their trends as from 1880-2018.\n"
   ]
  },
  {
   "cell_type": "markdown",
   "metadata": {},
   "source": [
    "## 2. Data Aquisition.\n",
    "Data for the project have been obtained from the US Social Security Administration which makes available data files,\n",
    "one per year, containing the total number of births for each sex/name combination.\n",
    "The raw archive of these files can be obtained from http://www.ssa.gov/oact/baby\n",
    "names/limits.html. We downmloaded the \"National Data\" files *names.zip* and unzipped it. **Automate the process**"
   ]
  },
  {
   "cell_type": "markdown",
   "metadata": {},
   "source": [
    "## 3. Data Preparation"
   ]
  },
  {
   "cell_type": "markdown",
   "metadata": {},
   "source": [
    "## 4. Data Exploration and Visualization."
   ]
  },
  {
   "cell_type": "markdown",
   "metadata": {},
   "source": [
    "## 5. Data Modelling."
   ]
  },
  {
   "cell_type": "markdown",
   "metadata": {},
   "source": []
  },
  {
   "cell_type": "markdown",
   "metadata": {},
   "source": []
  },
  {
   "cell_type": "markdown",
   "metadata": {},
   "source": []
  },
  {
   "cell_type": "markdown",
   "metadata": {},
   "source": []
  },
  {
   "cell_type": "markdown",
   "metadata": {},
   "source": []
  },
  {
   "cell_type": "markdown",
   "metadata": {},
   "source": []
  },
  {
   "cell_type": "markdown",
   "metadata": {},
   "source": [
    "# Ways of bettering up the project.\n",
    "1. Be able to predict age of a person, demographic area of a person, language, religion etc. given a name.\n",
    "2. **Be able to give the meaning and origin of the name given to the child on a search of the name.**\n",
    "3. **Be able to list celebrities who have ever been named with that particular name searched.**\n",
    "4. Be able to suggest best match names to a particular name.\n",
    "5. **Be able to suggest a name to name a child based on your feelings, ascription, desire etc.**"
   ]
  },
  {
   "cell_type": "markdown",
   "metadata": {},
   "source": []
  }
 ],
 "metadata": {
  "kernelspec": {
   "display_name": "Python 3",
   "language": "python",
   "name": "python3"
  },
  "language_info": {
   "codemirror_mode": {
    "name": "ipython",
    "version": 3
   },
   "file_extension": ".py",
   "mimetype": "text/x-python",
   "name": "python",
   "nbconvert_exporter": "python",
   "pygments_lexer": "ipython3",
   "version": "3.7.4"
  }
 },
 "nbformat": 4,
 "nbformat_minor": 2
}
